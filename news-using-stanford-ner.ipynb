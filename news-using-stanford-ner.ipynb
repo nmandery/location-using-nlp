{
 "cells": [
  {
   "cell_type": "markdown",
   "metadata": {},
   "source": [
    "# get locations from newspaper articles using Stanford CoreNLP\n",
    "\n",
    "This notebook fetches RSS/Atom feeds and attempts to find the locations mentioned in the linked atricles. \n",
    "\n",
    "This implementation is just an example. It is inefficient and completely skips any error handling.\n",
    "\n",
    "## Prequisites\n",
    "\n",
    "* Download http://nlp.stanford.edu/software/stanford-corenlp-full-2018-10-05.zip and unzip it into the directory of this notebook\n",
    "* Download http://nlp.stanford.edu/software/stanford-german-corenlp-2018-10-05-models.jar into the same directory and unzip it with `jar xf *models.jar`.\n",
    "* install the python dependencies using `pip install -r requirements.txt`"
   ]
  },
  {
   "cell_type": "code",
   "execution_count": 1,
   "metadata": {},
   "outputs": [
    {
     "name": "stderr",
     "output_type": "stream",
     "text": [
      "[nltk_data] Downloading package punkt to /home/nico/nltk_data...\n",
      "[nltk_data]   Package punkt is already up-to-date!\n"
     ]
    },
    {
     "data": {
      "text/plain": [
       "True"
      ]
     },
     "execution_count": 1,
     "metadata": {},
     "output_type": "execute_result"
    }
   ],
   "source": [
    "import nltk\n",
    "\n",
    "nltk.download('punkt')"
   ]
  },
  {
   "cell_type": "markdown",
   "metadata": {},
   "source": [
    "## Create the tagger"
   ]
  },
  {
   "cell_type": "code",
   "execution_count": 2,
   "metadata": {
    "scrolled": true
   },
   "outputs": [],
   "source": [
    "# http://www.nltk.org/api/nltk.tag.html#module-nltk.tag.stanford\n",
    "\n",
    "import os.path\n",
    "\n",
    "from nltk.tag import StanfordNERTagger\n",
    "from nltk import word_tokenize\n",
    "\n",
    "StanfordNERTagger._JAR = 'stanford-corenlp-3.9.2.jar'\n",
    "\n",
    "st = StanfordNERTagger('edu/stanford/nlp/models/ner/german.conll.germeval2014.hgc_175m_600.crf.ser.gz',\n",
    "                       path_to_jar=os.path.join(os.getcwd(), 'stanford-corenlp-full-2018-10-05/', StanfordNERTagger._JAR))\n",
    "\n",
    "def get_tags(text):\n",
    "    return st.tag(word_tokenize(text))\n",
    "\n",
    "def filter_locations(tags):\n",
    "    return set([tag for tag, ttype in tags if ttype == 'LOCATION'])"
   ]
  },
  {
   "cell_type": "markdown",
   "metadata": {},
   "source": [
    "## Fetch the recent newspaper articles and get their locations"
   ]
  },
  {
   "cell_type": "code",
   "execution_count": 3,
   "metadata": {},
   "outputs": [
    {
     "data": {
      "text/markdown": [
       "[Neuer Staatssekretär des BMWi besucht Energieforschung im DLR Köln](https://www.dlr.de/dlr/de/desktopdefault.aspx/tabid-10081/151_read-33513/)\n",
       "\n",
       "* TESIS\n",
       "* Köln"
      ],
      "text/plain": [
       "<IPython.core.display.Markdown object>"
      ]
     },
     "metadata": {},
     "output_type": "display_data"
    },
    {
     "data": {
      "text/markdown": [
       "[Testfeld Niedersachsen - Mobilitätsforschung mit Realdaten von der A39](https://www.dlr.de/dlr/de/desktopdefault.aspx/tabid-10081/151_read-33501/)\n",
       "\n",
       "* Niedersachsen\n",
       "* Cremlingen\n",
       "* A2\n",
       "* Braunschweig\n",
       "* Wolfsburg"
      ],
      "text/plain": [
       "<IPython.core.display.Markdown object>"
      ]
     },
     "metadata": {},
     "output_type": "display_data"
    },
    {
     "data": {
      "text/markdown": [
       "[Algen auf außerirdischer Mission: Atemluft für die ISS-Astronauten](https://www.dlr.de/dlr/de/desktopdefault.aspx/tabid-10081/151_read-33413/)\n",
       "\n",
       "* Erde\n",
       "* Deutschland\n",
       "* ISS\n",
       "* Mond\n",
       "* Mars\n",
       "* Friedrichshafen"
      ],
      "text/plain": [
       "<IPython.core.display.Markdown object>"
      ]
     },
     "metadata": {},
     "output_type": "display_data"
    },
    {
     "data": {
      "text/markdown": [
       "[DLR führt mit Hilfe der Deutschen Lufthansa Flugversuche in Braunschweig durch](https://www.dlr.de/dlr/de/desktopdefault.aspx/tabid-10081/151_read-33460/)\n",
       "\n",
       "* Braunschweig\n",
       "* Braunschweig-Wolfsburg"
      ],
      "text/plain": [
       "<IPython.core.display.Markdown object>"
      ]
     },
     "metadata": {},
     "output_type": "display_data"
    },
    {
     "data": {
      "text/markdown": [
       "[DLR auf dem Space Symposium 2019](https://www.dlr.de/dlr/de/desktopdefault.aspx/tabid-10081/151_read-33425/)\n",
       "\n",
       "* Springs\n",
       "* Jena\n",
       "* Mond\n",
       "* USA\n",
       "* Thüringen\n",
       "* Washington\n",
       "* Colorado"
      ],
      "text/plain": [
       "<IPython.core.display.Markdown object>"
      ]
     },
     "metadata": {},
     "output_type": "display_data"
    },
    {
     "data": {
      "text/markdown": [
       "[DLR-Technologiemarketing und polnische ARP unterzeichnen Erklärung über gemeinsame Aktivitäten](https://www.dlr.de/dlr/de/desktopdefault.aspx/tabid-10081/151_read-33392/)\n",
       "\n",
       "* Polen\n",
       "* Warschau"
      ],
      "text/plain": [
       "<IPython.core.display.Markdown object>"
      ]
     },
     "metadata": {},
     "output_type": "display_data"
    },
    {
     "data": {
      "text/markdown": [
       "[Rosetta \"Post-Mission\": Neue Erkenntnisse zu Temperatur und Beschaffenheit der Kometenoberfläche](https://www.dlr.de/dlr/de/desktopdefault.aspx/tabid-10081/151_read-33403/)\n",
       "\n",
       "* Italien\n",
       "* Frankreich\n",
       "* Hapi\n",
       "* Rom\n",
       "* Imohotep\n",
       "* Deutschland\n",
       "* VIRTIS\n",
       "* Paris"
      ],
      "text/plain": [
       "<IPython.core.display.Markdown object>"
      ]
     },
     "metadata": {},
     "output_type": "display_data"
    },
    {
     "data": {
      "text/markdown": [
       "[SOFIA entdeckt Baustein für das junge Universum](https://www.dlr.de/dlr/de/desktopdefault.aspx/tabid-10081/151_read-33350/)\n",
       "\n",
       "* Köln\n",
       "* Bonn\n",
       "* Berlin\n",
       "* SOFIA"
      ],
      "text/plain": [
       "<IPython.core.display.Markdown object>"
      ]
     },
     "metadata": {},
     "output_type": "display_data"
    },
    {
     "data": {
      "text/markdown": [
       "[Automatische Landungen unbemannter Hubschrauber auf Schiffen bei Wind und Wellengang erproben](https://www.dlr.de/dlr/de/desktopdefault.aspx/tabid-10081/151_read-33348/)\n",
       "\n",
       "* Düne\n",
       "* Hohe\n",
       "* Braunschweig\n",
       "* MaRPAS\n",
       "* Rostock-Warnemünde"
      ],
      "text/plain": [
       "<IPython.core.display.Markdown object>"
      ]
     },
     "metadata": {},
     "output_type": "display_data"
    },
    {
     "data": {
      "text/markdown": [
       "[DLR/NASA-Design Challenge widmet sich dem Entwurf kleiner Fluggeräte und neuen Technologien im Regionalflugverkehr](https://www.dlr.de/dlr/de/desktopdefault.aspx/tabid-10081/151_read-33304/)\n",
       "\n",
       "* USA\n",
       "* Braunschweig\n",
       "* Deutschland\n",
       "* München"
      ],
      "text/plain": [
       "<IPython.core.display.Markdown object>"
      ]
     },
     "metadata": {},
     "output_type": "display_data"
    },
    {
     "data": {
      "text/markdown": [
       "[Die ersten Detektoren für Exoplaneten-Weltraumteleskop PLATO ausgeliefert](https://www.dlr.de/dlr/de/desktopdefault.aspx/tabid-10081/151_read-33197/)\n",
       "\n",
       "* Chelmsford\n",
       "* Großbritannien\n",
       "* Erde\n",
       "* Milchstraße\n",
       "* Sonne-Erde\n",
       "* Device\n",
       "* Berlin"
      ],
      "text/plain": [
       "<IPython.core.display.Markdown object>"
      ]
     },
     "metadata": {},
     "output_type": "display_data"
    },
    {
     "data": {
      "text/markdown": [
       "[Tests für den InSight-Maulwurf](https://www.dlr.de/dlr/de/desktopdefault.aspx/tabid-10081/151_read-33208/)\n",
       "\n",
       "* Denver\n",
       "* Erde\n",
       "* Mars\n",
       "* USA\n",
       "* Bremen\n",
       "* Astronika\n",
       "* Pasadena\n",
       "* Köln\n",
       "* Colorado\n",
       "* Kalifornien"
      ],
      "text/plain": [
       "<IPython.core.display.Markdown object>"
      ]
     },
     "metadata": {},
     "output_type": "display_data"
    },
    {
     "data": {
      "text/markdown": [
       "[Mondgravitation in 600 Kilometern über der Erde](https://www.dlr.de/dlr/de/desktopdefault.aspx/tabid-10081/151_read-33194/)\n",
       "\n",
       "* Mars\n",
       "* Mond\n",
       "* Eu\n",
       "* Erde"
      ],
      "text/plain": [
       "<IPython.core.display.Markdown object>"
      ]
     },
     "metadata": {},
     "output_type": "display_data"
    },
    {
     "data": {
      "text/markdown": [
       "[Satellitentechnik für den Mobilfunk der Zukunft](https://www.dlr.de/dlr/de/desktopdefault.aspx/tabid-10081/151_read-33203/)\n",
       "\n",
       "* Pazifik\n",
       "* Nord-\n",
       "* Südamerika\n",
       "* Bundesrepublik\n",
       "* Westeuropas\n",
       "* Asien\n",
       "* Atlantiks"
      ],
      "text/plain": [
       "<IPython.core.display.Markdown object>"
      ]
     },
     "metadata": {},
     "output_type": "display_data"
    },
    {
     "data": {
      "text/markdown": [
       "[Schnellerer Zugriff auf Erdbeobachtungsprodukte der maritimen Sicherheit durch Datenwürfel](https://www.dlr.de/dlr/de/desktopdefault.aspx/tabid-10081/151_read-33179/)\n",
       "\n",
       "* Ostsee\n",
       "* Deutschland\n",
       "* Dänemarks\n",
       "* Neustrelitz\n",
       "* Bremen\n",
       "* Norderney\n",
       "* Nordsee"
      ],
      "text/plain": [
       "<IPython.core.display.Markdown object>"
      ]
     },
     "metadata": {},
     "output_type": "display_data"
    },
    {
     "data": {
      "text/markdown": [
       "[Sichern Sie eine einmalige Wildnis](https://www.nabu.de/spenden-und-mitmachen/spenden/26107.html)\n",
       "\n",
       "* Usedom\n",
       "* Charitéstraße\n",
       "* Stadtbruch\n",
       "* Anklamer\n",
       "* Deutschlands\n",
       "* Mitteleuropa\n",
       "* Anklam\n",
       "* Berlin"
      ],
      "text/plain": [
       "<IPython.core.display.Markdown object>"
      ]
     },
     "metadata": {},
     "output_type": "display_data"
    },
    {
     "data": {
      "text/markdown": [
       "[Was tut Europa für die Umwelt?](https://www.nabu.de/wir-ueber-uns/infothek/mitgliedermagazin/hefte/26280.html)\n",
       "\n",
       "* Brüssel\n",
       "* Charitéstraße\n",
       "* Großbritannien\n",
       "* Deutschland\n",
       "* Berlin\n",
       "* Slowenien\n",
       "* Oroklini\n",
       "* Kroatien\n",
       "* Karpaten\n",
       "* Larnaka\n",
       "* Zypern\n",
       "* BirdLife\n",
       "* Schleswig-Holstein\n",
       "* Europa\n",
       "* Butendiek"
      ],
      "text/plain": [
       "<IPython.core.display.Markdown object>"
      ]
     },
     "metadata": {},
     "output_type": "display_data"
    },
    {
     "data": {
      "text/markdown": [
       "[Tempo beim Herdenschutz](https://www.nabu.de/news/2019/04/26314.html)\n",
       "\n",
       "* Gohrischheide\n",
       "* Charitéstraße\n",
       "* Ostseetunnel\n",
       "* Deutschland\n",
       "* Berlin\n",
       "* Europa\n",
       "* Butendiek"
      ],
      "text/plain": [
       "<IPython.core.display.Markdown object>"
      ]
     },
     "metadata": {},
     "output_type": "display_data"
    },
    {
     "data": {
      "text/markdown": [
       "[NABU klagt gegen geplanten Ostseetunnel](https://www.nabu.de/news/2019/04/26338.html)\n",
       "\n",
       "* Ostsee\n",
       "* Deutschland"
      ],
      "text/plain": [
       "<IPython.core.display.Markdown object>"
      ]
     },
     "metadata": {},
     "output_type": "display_data"
    },
    {
     "data": {
      "text/markdown": [
       "[15 Jahre Citizen Science](https://www.nabu.de/tiere-und-pflanzen/aktionen-und-projekte/stunde-der-gartenvoegel/ergebnisse/22414.html)\n",
       "\n",
       "* Usedom\n",
       "* Charitéstraße\n",
       "* Butendiek\n",
       "* Deutschlands\n",
       "* Berlin"
      ],
      "text/plain": [
       "<IPython.core.display.Markdown object>"
      ]
     },
     "metadata": {},
     "output_type": "display_data"
    },
    {
     "data": {
      "text/markdown": [
       "[Fotowettbewerb: Was lebt in der Wiese?](https://www.nabu.de/spenden-und-mitmachen/fuer-unternehmen/kooperationspartner/26182.html)\n",
       "\n",
       "* Charitéstraße\n",
       "* Deutschland\n",
       "* Berlin\n",
       "* Oldenburg\n",
       "* Deutschlands\n",
       "* Butendiek"
      ],
      "text/plain": [
       "<IPython.core.display.Markdown object>"
      ]
     },
     "metadata": {},
     "output_type": "display_data"
    },
    {
     "data": {
      "text/markdown": [
       "[„Allein unter Wölfen“ zum Tag des Wolfes](https://www.nabu.de/tiere-und-pflanzen/saeugetiere/wolf/nabu-aktivitaeten/26242.html)\n",
       "\n",
       "* Loro\n",
       "* Burgstädt\n",
       "* Deutschland\n",
       "* Nordenham\n",
       "* Europa\n",
       "* Wolfenbüttel\n",
       "* Harzvorland\n",
       "* Gifhorn\n",
       "* Aschau\n",
       "* Butendiek\n",
       "* Waldweg\n",
       "* Riedstadt-Goddelau\n",
       "* Wildeshausen\n",
       "* Parque\n",
       "* Rotenburg\n",
       "* Karlsruhe\n",
       "* Brandenburg\n",
       "* Bochum\n",
       "* Torgau\n",
       "* Berlin\n",
       "* Gohrischheide\n",
       "* Charitéstraße\n",
       "* Sachsen-Anhalt\n",
       "* Sachsen\n",
       "* Ellwangen\n",
       "* Nienburg"
      ],
      "text/plain": [
       "<IPython.core.display.Markdown object>"
      ]
     },
     "metadata": {},
     "output_type": "display_data"
    },
    {
     "data": {
      "text/markdown": [
       "[Wessen Interessen vertritt der Bauernverband?](https://www.nabu.de/natur-und-landschaft/landnutzung/landwirtschaft/agrarpolitik/26321.html)\n",
       "\n",
       "* Brüssel\n",
       "* Charitéstraße\n",
       "* Stadtbruch\n",
       "* Borken\n",
       "* Deutschland\n",
       "* Anklamer\n",
       "* Ostsee\n",
       "* Butendiek\n",
       "* Raiffeisenverbands\n",
       "* Europa\n",
       "* Berlin\n",
       "* Deutschen"
      ],
      "text/plain": [
       "<IPython.core.display.Markdown object>"
      ]
     },
     "metadata": {},
     "output_type": "display_data"
    },
    {
     "data": {
      "text/markdown": [
       "[Farben unserer Streuobstwiese](https://www.nabu.de/natur-und-landschaft/landnutzung/streuobst/pflege/26333.html)\n",
       "\n",
       "* Charitéstraße\n",
       "* Stuttgart\n",
       "* Stadtbruch\n",
       "* Ostsee\n",
       "* Anklamer\n",
       "* Baden-Württemberg\n",
       "* Butendiek\n",
       "* Berlin"
      ],
      "text/plain": [
       "<IPython.core.display.Markdown object>"
      ]
     },
     "metadata": {},
     "output_type": "display_data"
    },
    {
     "data": {
      "text/markdown": [
       "[Vogelbestimmung leicht gemacht](https://www.nabu.de/natur-und-landschaft/natur-erleben/spiele-apps-klingeltoene/vogelwelt.html)\n",
       "\n",
       "* Maltas\n",
       "* Charitéstraße\n",
       "* Ägyptens\n",
       "* Mittelmeer\n",
       "* Deutschland\n",
       "* Berlin\n",
       "* Malta\n",
       "* Ägypten\n",
       "* Mitteleuropa\n",
       "* Zypern\n",
       "* Zyperns\n",
       "* Butendiek"
      ],
      "text/plain": [
       "<IPython.core.display.Markdown object>"
      ]
     },
     "metadata": {},
     "output_type": "display_data"
    },
    {
     "data": {
      "text/markdown": [
       "[In den Wäldern des Balkans](https://www.nabu.de/tiere-und-pflanzen/saeugetiere/luchs/26256.html)\n",
       "\n",
       "* Charitéstraße\n",
       "* Lucky\n",
       "* Berlin\n",
       "* Wald\n",
       "* Pfälzer\n",
       "* Karlsruhe\n",
       "* Münster\n",
       "* Butendiek\n",
       "* Karpaten\n",
       "* Kroatien\n",
       "* Gorski\n",
       "* Slowenien\n",
       "* Sachsen\n",
       "* Kroatiens\n",
       "* Slowakei\n",
       "* BirdLife"
      ],
      "text/plain": [
       "<IPython.core.display.Markdown object>"
      ]
     },
     "metadata": {},
     "output_type": "display_data"
    },
    {
     "data": {
      "text/markdown": [
       "[Schwieriger Vogelschutz auf Zypern](https://www.nabu.de/tiere-und-pflanzen/voegel/zugvogelschutz/zypern/26278.html)\n",
       "\n",
       "* Nikosia\n",
       "* Europas\n",
       "* Charitéstraße\n",
       "* Europa\n",
       "* Afrika\n",
       "* Berlin\n",
       "* Oroklini\n",
       "* Larnaka\n",
       "* Zypern\n",
       "* Zyperns\n",
       "* Strakka\n",
       "* Butendiek"
      ],
      "text/plain": [
       "<IPython.core.display.Markdown object>"
      ]
     },
     "metadata": {},
     "output_type": "display_data"
    },
    {
     "data": {
      "text/markdown": [
       "[Lufthoheit für Biobauern](https://www.nabu.de/natur-und-landschaft/landnutzung/landwirtschaft/pestizide/26292.html)\n",
       "\n",
       "* Sonnenberg\n",
       "* Europas\n",
       "* Vinschger\n",
       "* Charitéstraße\n",
       "* TrentinoSüdtirol\n",
       "* Schluderns\n",
       "* Stadtbruch\n",
       "* Bozen\n",
       "* Deutschland\n",
       "* Südtirol\n",
       "* Vinschgau\n",
       "* Berlin\n",
       "* Anklamer\n",
       "* Ostsee\n",
       "* Pestizidland\n",
       "* Butendiek\n",
       "* Italiens"
      ],
      "text/plain": [
       "<IPython.core.display.Markdown object>"
      ]
     },
     "metadata": {},
     "output_type": "display_data"
    },
    {
     "data": {
      "text/markdown": [
       "[EU-Subventionen sind schlecht für die Artenvielfalt](https://www.nabu.de/natur-und-landschaft/landnutzung/landwirtschaft/agrarpolitik/eu-agrarreform/26295.html)\n",
       "\n",
       "* Charitéstraße\n",
       "* Niedersachsen\n",
       "* Stadtbruch\n",
       "* Deutschland\n",
       "* Berlin\n",
       "* Anklamer\n",
       "* Bulgariens\n",
       "* Ostsee\n",
       "* Bulgarien\n",
       "* Butendiek"
      ],
      "text/plain": [
       "<IPython.core.display.Markdown object>"
      ]
     },
     "metadata": {},
     "output_type": "display_data"
    },
    {
     "data": {
      "text/markdown": [
       "[Hans-Albert ist ein fauler Storch](https://www.nabu.de/tiere-und-pflanzen/aktionen-und-projekte/stoerche-auf-reisen/26300.html)\n",
       "\n",
       "* Sahelzone\n",
       "* Bergenhusen\n",
       "* Afrika\n",
       "* Europa\n",
       "* Deutschlands\n",
       "* Ost-\n",
       "* Südosteuropa\n",
       "* Südafrika\n",
       "* Bosporus\n",
       "* Butendiek\n",
       "* Ostafrika\n",
       "* Berlin\n",
       "* Frankreich\n",
       "* Spanien\n",
       "* Tschadsees\n",
       "* Charitéstraße\n",
       "* Rivas-Vaciamadrid\n",
       "* Westafrika\n",
       "* Portugal\n",
       "* Westdeutschland\n",
       "* Schleswig-Holstein"
      ],
      "text/plain": [
       "<IPython.core.display.Markdown object>"
      ]
     },
     "metadata": {},
     "output_type": "display_data"
    },
    {
     "data": {
      "text/markdown": [
       "[Baden-Württemberg: Thomas Strobl bleibt CDU-Landeschef](https://www.sueddeutsche.de/politik/strobl-cdu-baden-wuerttemberg-1.4432418)\n",
       "\n",
       "* Baden-Württemberg\n",
       "* Weingarten\n",
       "* Augsburg\n",
       "* Deutschlands\n",
       "* Nordrhein-Westfalen\n",
       "* Jerusalem"
      ],
      "text/plain": [
       "<IPython.core.display.Markdown object>"
      ]
     },
     "metadata": {},
     "output_type": "display_data"
    },
    {
     "data": {
      "text/markdown": [
       "[SZ Europa: Wählen gehen!](https://www.sueddeutsche.de/politik/europakolumne-schicksalswahl-wahlbeteiligung-demokratie-1.4431638)\n",
       "\n",
       "* Schweiz\n",
       "* Thoelkes\n",
       "* Europawahlen\n",
       "* Spielshow\n",
       "* Deutschland\n",
       "* Ungarn\n",
       "* Wim\n",
       "* Europa"
      ],
      "text/plain": [
       "<IPython.core.display.Markdown object>"
      ]
     },
     "metadata": {},
     "output_type": "display_data"
    },
    {
     "data": {
      "text/markdown": [
       "[US-Notenbank Fed: Ein Rest von Unabhängigkeit bleibt](https://www.sueddeutsche.de/wirtschaft/trump-notenbank-fed-unabhaengigkeit-1.4430816)\n",
       "\n",
       "* USA\n",
       "* Washington\n",
       "* New\n",
       "* York\n",
       "* Köln\n",
       "* Bonn\n",
       "* Berlin"
      ],
      "text/plain": [
       "<IPython.core.display.Markdown object>"
      ]
     },
     "metadata": {},
     "output_type": "display_data"
    },
    {
     "data": {
      "text/markdown": [
       "[Europawahl: Markus Söder, ein CSU-Chef auf Auslandsmission](https://www.sueddeutsche.de/bayern/soeder-csu-ausland-allianzen-1.4430947)\n",
       "\n",
       "* Brüssel\n",
       "* Sofia\n",
       "* Staaten\n",
       "* Österreichs\n",
       "* Europas\n",
       "* Hintergrundgesprächen\n",
       "* Zagreb\n",
       "* Vereinigten\n",
       "* Russland\n",
       "* Äthiopien\n",
       "* Moskau\n",
       "* Österreich\n",
       "* Deutschland\n",
       "* Wien\n",
       "* Kroatien\n",
       "* Bayern\n",
       "* Bulgarien\n",
       "* China\n",
       "* Europa\n",
       "* Berlin"
      ],
      "text/plain": [
       "<IPython.core.display.Markdown object>"
      ]
     },
     "metadata": {},
     "output_type": "display_data"
    },
    {
     "data": {
      "text/markdown": [
       "[Psychologie: Hello darkness](https://www.sueddeutsche.de/wissen/depression-trauer-musik-1.4426266)\n",
       "\n",
       "* Edinburgh\n",
       "* München"
      ],
      "text/plain": [
       "<IPython.core.display.Markdown object>"
      ]
     },
     "metadata": {},
     "output_type": "display_data"
    },
    {
     "data": {
      "text/markdown": [
       "[Großbritannien: Der Europäer im Stadtrat von Winchester](https://www.sueddeutsche.de/politik/grossbritannien-kommunalwahl-europawahl-martin-tod-1.4430818)\n",
       "\n",
       "* Ungarn\n",
       "* Mittelosteuropa\n",
       "* Rheinland-Pfalz\n",
       "* USA\n",
       "* Winchester\n",
       "* Hessen\n",
       "* Slowakei\n",
       "* Straßburg\n",
       "* München\n",
       "* London\n",
       "* Cambridge\n",
       "* Brexit-Falle\n",
       "* Eugene\n",
       "* Saarland\n",
       "* Berlin\n",
       "* Göttingen\n",
       "* Großbritannien\n",
       "* Tübingen\n",
       "* Moskau\n",
       "* Österreich\n",
       "* Ukraine\n",
       "* Wien\n",
       "* Slowenien"
      ],
      "text/plain": [
       "<IPython.core.display.Markdown object>"
      ]
     },
     "metadata": {},
     "output_type": "display_data"
    },
    {
     "data": {
      "text/markdown": [
       "[Umwelt: Kokain im Flohkrebs](https://www.sueddeutsche.de/wissen/england-flohkrebs-kokain-drogen-abwasser-1.4431085)\n",
       "\n",
       "* London\n",
       "* Europas\n",
       "* Suffolk\n",
       "* Lidocain\n",
       "* Chemnitz\n",
       "* England\n",
       "* Bremen\n",
       "* Barcelona\n",
       "* Aalen"
      ],
      "text/plain": [
       "<IPython.core.display.Markdown object>"
      ]
     },
     "metadata": {},
     "output_type": "display_data"
    },
    {
     "data": {
      "text/markdown": [
       "[Cyber-Kriminalität: Die Darknet-Fürsten aus Kleve und Bad Vilbel](https://www.sueddeutsche.de/digital/darknet-bka-wall-street-market-it-sicherheit-1.4431661)\n",
       "\n",
       "* Frankfurt\n",
       "* Südamerika\n",
       "* Street\n",
       "* Esslingen\n",
       "* Market\n",
       "* Main\n",
       "* USA\n",
       "* Niederlanden\n",
       "* Bad\n",
       "* Wall\n",
       "* Vilbel\n",
       "* Kleve\n",
       "* am"
      ],
      "text/plain": [
       "<IPython.core.display.Markdown object>"
      ]
     },
     "metadata": {},
     "output_type": "display_data"
    },
    {
     "data": {
      "text/markdown": [
       "[Kühnert und der Sozialismus: Warum die SPD so dünnhäutig auf den Juso-Chef reagiert](https://www.sueddeutsche.de/politik/spd-reaktion-juso-chef-kuehnert-1.4431025)\n",
       "\n",
       "* Griechenland\n",
       "* Niedersachsen\n",
       "* Rheinland-Pfalz\n",
       "* Moskau\n",
       "* Saarbrücken\n",
       "* Zypern\n",
       "* Leipzig\n",
       "* Bremen\n",
       "* Augsburg\n",
       "* Wien\n",
       "* Warschau\n",
       "* Hessen\n",
       "* Saarland\n",
       "* Bayern\n",
       "* Kassel\n",
       "* Türkei\n",
       "* Europa\n",
       "* Bonn\n",
       "* Berlin"
      ],
      "text/plain": [
       "<IPython.core.display.Markdown object>"
      ]
     },
     "metadata": {},
     "output_type": "display_data"
    },
    {
     "data": {
      "text/markdown": [
       "[Missbrauchsfall in Lügde: Gerüchte um einen Zeugen](https://www.sueddeutsche.de/politik/luegde-missbrauch-nordrhein-westfalen-1.4431041)\n",
       "\n",
       "* Eichwald\n",
       "* Campingplatz\n",
       "* Hamburg\n",
       "* Lügde\n",
       "* Bundesrepublik\n",
       "* Niedersachsen\n",
       "* Deutschland\n",
       "* Bremen\n",
       "* Wienberg\n",
       "* Nordrhein-Westfalens\n",
       "* Tauberbischofsheim\n",
       "* Nordrhein-Westfalen\n",
       "* München"
      ],
      "text/plain": [
       "<IPython.core.display.Markdown object>"
      ]
     },
     "metadata": {},
     "output_type": "display_data"
    },
    {
     "data": {
      "text/markdown": [
       "[VroniPlag Wiki: Plagiatsjäger beanstanden mehr als 70 Seiten von Giffeys Dissertation](https://www.sueddeutsche.de/politik/giffey-dissertation-plagiate-vroniplag-1.4431726)\n",
       "\n",
       "* Giffey\n",
       "* Nordrhein-Westfalen"
      ],
      "text/plain": [
       "<IPython.core.display.Markdown object>"
      ]
     },
     "metadata": {},
     "output_type": "display_data"
    },
    {
     "data": {
      "text/markdown": [
       "[Bundesliga: Gleich drei Neue für Schalke](https://www.sueddeutsche.de/sport/schalke-wagner-trainer-1.4431476)\n",
       "\n",
       "* Dortmund\n",
       "* Schalkes\n",
       "* Hoffenheim\n",
       "* Kerkrades\n",
       "* Gelsenkirchen\n",
       "* England\n",
       "* Schalke\n",
       "* Huddersfield\n",
       "* China\n",
       "* Ernst-Kuzorra-Weg\n",
       "* Leipzig\n",
       "* Paderborn\n",
       "* Gladbach"
      ],
      "text/plain": [
       "<IPython.core.display.Markdown object>"
      ]
     },
     "metadata": {},
     "output_type": "display_data"
    },
    {
     "data": {
      "text/markdown": [
       "[Europawahl: Was die Parteien wollen - und was sie ablehnen](https://www.sueddeutsche.de/politik/europawahl-wahlprogramme-parteien-1.4427514)\n",
       "\n",
       "* Brüssel\n",
       "* London\n",
       "* Röszke\n",
       "* Bitburg\n",
       "* Peking\n",
       "* FrankfurtMain\n",
       "* Deutschland\n",
       "* Brandenburg\n",
       "* Köln\n",
       "* China\n",
       "* Trier\n",
       "* Europa\n",
       "* Straßburg"
      ],
      "text/plain": [
       "<IPython.core.display.Markdown object>"
      ]
     },
     "metadata": {},
     "output_type": "display_data"
    },
    {
     "data": {
      "text/markdown": [
       "[Hauptversammlung: Die Enkel haben keine Lust auf RWE](https://www.sueddeutsche.de/wirtschaft/rwe-kohle-klimawandel-hauptversammlung-proteste-1.4431005)\n",
       "\n",
       "* Dortmund\n",
       "* Europas\n",
       "* Deutschland\n",
       "* Hambach\n",
       "* Niederrhein\n",
       "* Köln\n",
       "* Innogy\n",
       "* Europa"
      ],
      "text/plain": [
       "<IPython.core.display.Markdown object>"
      ]
     },
     "metadata": {},
     "output_type": "display_data"
    },
    {
     "data": {
      "text/markdown": [
       "[CSU-Reformpläne:  \"Söder will den Reichen ein Milliardengeschenk machen\"](https://www.sueddeutsche.de/politik/markus-soeder-steuerreform-reaktionen-1.4430860)\n",
       "\n",
       "* Österreichs\n",
       "* Deutschland\n",
       "* Washington\n",
       "* New\n",
       "* York\n",
       "* Wien\n",
       "* Ungarn\n",
       "* Bulgarien\n",
       "* Bayerns\n",
       "* Jerusalem\n",
       "* Bonn\n",
       "* Berlin\n",
       "* München"
      ],
      "text/plain": [
       "<IPython.core.display.Markdown object>"
      ]
     },
     "metadata": {},
     "output_type": "display_data"
    }
   ],
   "source": [
    "import feedparser\n",
    "import requests\n",
    "import pyquery\n",
    "from readability import Document\n",
    "from IPython.display import display, Markdown\n",
    "\n",
    "import warnings\n",
    "warnings.filterwarnings(\"ignore\") # future-warnings from readability\n",
    "\n",
    "def url_to_text(u):\n",
    "    resp = requests.get(u)\n",
    "    d = pyquery.PyQuery(resp.text)\n",
    "    doc = Document(str(d('article') or d('.content') or d))\n",
    "    return pyquery.PyQuery(doc.content()).text().replace('\\\\n', ' ')\n",
    "\n",
    "def render(title, link, tags):\n",
    "    parts = [\n",
    "        \"[%s](%s)\" % (title, link),\n",
    "        \"\"\n",
    "    ]\n",
    "    for t in tags:\n",
    "        parts.append(\"* %s\" % t)\n",
    "    display(Markdown(\"\\n\".join(parts)))\n",
    "\n",
    "\n",
    "for feed_url in [\n",
    "            'https://www.dlr.de/dlr/de/contentXXL/services/newsexport/rss.asmx/GetRSSNewsByTabId?tabid=10081',\n",
    "            'https://www.nabu.de/rssfeed.php',\n",
    "            'http://rss.sueddeutsche.de/rss/Topthemen']:\n",
    "    \n",
    "    f = feedparser.parse(feed_url)\n",
    "    for e in f['entries']:\n",
    "        resp = requests.get(e['link'])\n",
    "        doc = Document(resp.text)\n",
    "        content = url_to_text(e['link'])\n",
    "        render(e['title'], e['link'], filter_locations(get_tags(content)))"
   ]
  },
  {
   "cell_type": "code",
   "execution_count": null,
   "metadata": {},
   "outputs": [],
   "source": []
  }
 ],
 "metadata": {
  "kernelspec": {
   "display_name": "Python 3",
   "language": "python",
   "name": "python3"
  },
  "language_info": {
   "codemirror_mode": {
    "name": "ipython",
    "version": 3
   },
   "file_extension": ".py",
   "mimetype": "text/x-python",
   "name": "python",
   "nbconvert_exporter": "python",
   "pygments_lexer": "ipython3",
   "version": "3.6.7"
  }
 },
 "nbformat": 4,
 "nbformat_minor": 2
}
